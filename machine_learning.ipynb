{
  "nbformat": 4,
  "nbformat_minor": 0,
  "metadata": {
    "colab": {
      "name": "machine_learning.ipynb",
      "provenance": [],
      "authorship_tag": "ABX9TyPKWSM3bWlHXwYrig6LmXPd",
      "include_colab_link": true
    },
    "kernelspec": {
      "name": "python3",
      "display_name": "Python 3"
    },
    "language_info": {
      "name": "python"
    },
    "accelerator": "GPU"
  },
  "cells": [
    {
      "cell_type": "markdown",
      "metadata": {
        "id": "view-in-github",
        "colab_type": "text"
      },
      "source": [
        "<a href=\"https://colab.research.google.com/github/satyam-ux/apex/blob/master/machine_learning.ipynb\" target=\"_parent\"><img src=\"https://colab.research.google.com/assets/colab-badge.svg\" alt=\"Open In Colab\"/></a>"
      ]
    },
    {
      "cell_type": "code",
      "metadata": {
        "id": "Cgvy5ZVo6fS2"
      },
      "source": [
        "!pip install anaconda"
      ],
      "execution_count": null,
      "outputs": []
    },
    {
      "cell_type": "code",
      "metadata": {
        "id": "07emnAQW7FbU"
      },
      "source": [
        "print(\"This is PRINCE\") #dispaly message"
      ],
      "execution_count": null,
      "outputs": []
    },
    {
      "cell_type": "code",
      "metadata": {
        "id": "azfKnD8n7Njx"
      },
      "source": [
        "student =\"Ram\" #student ek variable hai or \"sam is data\"\n",
        "student"
      ],
      "execution_count": null,
      "outputs": []
    },
    {
      "cell_type": "code",
      "metadata": {
        "id": "bYYAMgAK9b8y"
      },
      "source": [
        "type(student) #variable data kis type ka hai(string)"
      ],
      "execution_count": null,
      "outputs": []
    },
    {
      "cell_type": "code",
      "metadata": {
        "id": "mvp9UtuE739Q"
      },
      "source": [
        "student =\"Ratt\" #student ek variable hai or \"matt is data\"\n",
        "student"
      ],
      "execution_count": null,
      "outputs": []
    },
    {
      "cell_type": "code",
      "metadata": {
        "id": "o8FLAYZV9t1_"
      },
      "source": [
        "type(student) #string type data "
      ],
      "execution_count": null,
      "outputs": []
    },
    {
      "cell_type": "code",
      "metadata": {
        "id": "atWPNUKb8DGX"
      },
      "source": [
        "student =\"Tob\"#student ek variable hai or \"bob is data\"\n",
        "student"
      ],
      "execution_count": null,
      "outputs": []
    },
    {
      "cell_type": "code",
      "metadata": {
        "id": "MqEgKhdc8K9x"
      },
      "source": [
        "a1 =10 #a1 ek variable hai or \"10 is intiger data\"\n",
        "a1"
      ],
      "execution_count": null,
      "outputs": []
    },
    {
      "cell_type": "code",
      "metadata": {
        "id": "8Meqs4oX9Hxx"
      },
      "source": [
        "type(a1) #integer type data"
      ],
      "execution_count": null,
      "outputs": []
    },
    {
      "cell_type": "code",
      "metadata": {
        "id": "1ui26dmZ-Aa_"
      },
      "source": [
        "a1 =1.5 #agar kisi number me dot laga ho to wo  float value hoga\n",
        "a1"
      ],
      "execution_count": null,
      "outputs": []
    },
    {
      "cell_type": "code",
      "metadata": {
        "id": "i3F8V1tt-IwZ"
      },
      "source": [
        "type(a1) #float type data"
      ],
      "execution_count": null,
      "outputs": []
    },
    {
      "cell_type": "code",
      "metadata": {
        "id": "8VuJhuW8-jwh"
      },
      "source": [
        "a1 = True#jaha true=false ho wo boolean hai\n",
        "a1"
      ],
      "execution_count": null,
      "outputs": []
    },
    {
      "cell_type": "code",
      "metadata": {
        "id": "Rx5UaF_q-5U-"
      },
      "source": [
        "type(a1)#type boolean data type hai"
      ],
      "execution_count": null,
      "outputs": []
    },
    {
      "cell_type": "code",
      "metadata": {
        "id": "yf9vNzQO_Qog"
      },
      "source": [
        "a1 = 1+2j#ye ek complex number hai  jisme 1 jo hai real number hai or 2j ek virtual number hai\n",
        "a1 #ye direct likhne se print hota hai baar baar print ye likhne ki jarurt nahi "
      ],
      "execution_count": null,
      "outputs": []
    },
    {
      "cell_type": "code",
      "metadata": {
        "id": "vWPqEpjd_iEX"
      },
      "source": [
        "type(a1)#yaha a1 jo hai uska type complex hai "
      ],
      "execution_count": null,
      "outputs": []
    },
    {
      "cell_type": "markdown",
      "metadata": {
        "id": "49YP5WsFDZGG"
      },
      "source": [
        "***OPERATORS***\n",
        "\n",
        "<a><p><b> Arithmetic operator (+, -, /, *)</b>></p></a>\n",
        "\n",
        "\n",
        "\n"
      ]
    },
    {
      "cell_type": "code",
      "metadata": {
        "id": "lDsFzJVNDrp8"
      },
      "source": [
        "#Arithmetic operator (+, -, /, *)\n",
        "a = 10 #a me initizer vtype data store hai \n",
        "b = 20 # yaha bhi same hua hai isme bhi initixer value hai "
      ],
      "execution_count": null,
      "outputs": []
    },
    {
      "cell_type": "code",
      "metadata": {
        "id": "oOSukXPzFQMD"
      },
      "source": [
        "# maine sare ko0 ek baar me hicomma laga ke likh diya nahi to single single hi uopdate ho rhaa hyota to maine yesse kiya hai aagar aopko lage ki ek ek kaar ke kare to wo bhi kaar sakta haiu \n",
        "a+b ,a-b ,a/b ,a*b #sab ke sab operato hai jaise yaha sara answer intizer me aayega jaise plus or minus karte hai "
      ],
      "execution_count": null,
      "outputs": []
    },
    {
      "cell_type": "markdown",
      "metadata": {
        "id": "4TxK8l6mIj8p"
      },
      "source": [
        "<a><p><b>Relational operators(<,>,==,!=,)<b/></p></a>\n"
      ]
    },
    {
      "cell_type": "code",
      "metadata": {
        "id": "BYO008M5HcGD"
      },
      "source": [
        "a = 10\n",
        "b =50"
      ],
      "execution_count": null,
      "outputs": []
    },
    {
      "cell_type": "code",
      "metadata": {
        "id": "BhmNSfZSK_Yv"
      },
      "source": [
        "a>b,a<b,a==b,a!=b,a!=a\n",
        "#a>b,given value se dekhe to a jo hai chota hai b se isiliye hame false result milega \n",
        "#a<b,given value ke anusar b jo hai a se bara hai nto result true dega \n",
        "#a==b,yaha == duble equal t6o dene se ye pucha gya ki a and b same hai tp result aaya nahi brio \n",
        "#a!=b,yaha a! ko a!=b kiya to result aaya true mtlb ! iska kaam hai naa  ki a jo hai b ke barabar to nahi \n",
        "#a!=a,yaha a! se milaya to pata chala a ke barabar hai paar yaha ahi equal bola isiliye false value aaya "
      ],
      "execution_count": null,
      "outputs": []
    },
    {
      "cell_type": "markdown",
      "metadata": {
        "id": "HHYhWQIfVvtF"
      },
      "source": [
        ""
      ]
    },
    {
      "cell_type": "markdown",
      "metadata": {
        "id": "tEvtGu8FNiWv"
      },
      "source": [
        "<p><b><a>Logical operator(&=And,|=or)<a/></b></p>\n",
        "<p\n",
        "AND                                                   OR\n",
        "a    &   a                                      a   |   a   \n",
        "TRUE AND TRUE   = true                         TRUE OR TRUE   = true  \n",
        "a    &    b                                     a    |    b\n",
        "TRUE AND FALSE  = false                        TRUE OR FALSE  = true\n",
        "b     &   a                                     b     |   a\n",
        "FALSE AND TRUE   =false                        FALSE OR TRUE   = true\n",
        "b     &    b                                    b     |    b\n",
        "FALSE AND FALSE = false                        FALSE OR FALSE = false\n",
        "              /p>"
      ]
    },
    {
      "cell_type": "code",
      "metadata": {
        "id": "d1BsKfhMNfkA"
      },
      "source": [
        "a =True\n",
        "b =False"
      ],
      "execution_count": null,
      "outputs": []
    },
    {
      "cell_type": "code",
      "metadata": {
        "id": "BxttBkdQPKB2"
      },
      "source": [
        "a&a , b&b ,a&b, b&a,"
      ],
      "execution_count": null,
      "outputs": []
    },
    {
      "cell_type": "code",
      "metadata": {
        "id": "mnXddMnjPjFU"
      },
      "source": [
        "a|a , b|b ,a|b, b|a,"
      ],
      "execution_count": null,
      "outputs": []
    },
    {
      "cell_type": "markdown",
      "metadata": {
        "id": "DHTQhzrqRX6_"
      },
      "source": [
        "<p>KEYWORDS </P>\n",
        "<p\n",
        "False          class        Finally         is         return \n",
        "None           continue     For             lambda     try\n",
        "True           def          from            nonlocal   while \n",
        "and            del          global          not        with\n",
        "as             elif         if              or         yield \n",
        "/p>"
      ]
    },
    {
      "cell_type": "code",
      "metadata": {
        "id": "XA8EGdEBRgAW"
      },
      "source": [
        ""
      ],
      "execution_count": null,
      "outputs": []
    },
    {
      "cell_type": "markdown",
      "metadata": {
        "id": "tLCibYxmZv0Q"
      },
      "source": [
        "<p>keywordextract</p>\n"
      ]
    },
    {
      "cell_type": "code",
      "metadata": {
        "id": "0tux2Qrfbczd"
      },
      "source": [
        "str1 ='this is killer'#here str1 is a type of string in single comma\n",
        "str1"
      ],
      "execution_count": null,
      "outputs": []
    },
    {
      "cell_type": "code",
      "metadata": {
        "id": "y-BPxLEcbuuF"
      },
      "source": [
        "str2 =\"this is killer\"#here stri is a type of string in duble comma \n",
        "str2"
      ],
      "execution_count": null,
      "outputs": []
    },
    {
      "cell_type": "code",
      "metadata": {
        "id": "8TYB8NB-cOYP"
      },
      "source": [
        "str3 ='''this \n",
        "is \n",
        "killer'''#  here str3 is a typ of string in 3riple comma which help us to print multiple line strings\n",
        "str3"
      ],
      "execution_count": null,
      "outputs": []
    },
    {
      "cell_type": "markdown",
      "metadata": {
        "id": "2qj45Nwpc4I0"
      },
      "source": [
        "indivisual character extracting"
      ]
    },
    {
      "cell_type": "code",
      "metadata": {
        "id": "ok_KIsGccsep"
      },
      "source": [
        "my_string =\"this is killer\"#here is string in my_string named variable\n",
        "my_string[0]#here []=(in python string are counted by (value 0 to n number from left to right if u want to count from right to left then -1 to -ve n number))"
      ],
      "execution_count": null,
      "outputs": []
    },
    {
      "cell_type": "code",
      "metadata": {
        "id": "BGBiZ5ABeH2c"
      },
      "source": [
        "my_string=\"this is killer\"#here is string in my_string named variable \n",
        "my_string[-1]#here []=(in python string are counted by #if u want to count from right to left then -1 to -ve nth number)"
      ],
      "execution_count": null,
      "outputs": []
    },
    {
      "cell_type": "code",
      "metadata": {
        "id": "OHvZh_QJfYgt"
      },
      "source": [
        "my_string[4:12]#here maine yaha 1st type se string me se kuch data nikal raha jo start hota hai 4 se or khtm hota hai 12pe )"
      ],
      "execution_count": null,
      "outputs": []
    },
    {
      "cell_type": "code",
      "metadata": {
        "id": "G4PSnqsQhhJ-"
      },
      "source": [
        "my_string[4:-2]#here maine yaha 2nd type se string me se kuch data nikal raha jo start hota hai 4 se or khtm hota hai -2pe )"
      ],
      "execution_count": null,
      "outputs": []
    },
    {
      "cell_type": "code",
      "metadata": {
        "id": "81tQnCRBh4cL"
      },
      "source": [
        "my_string[-10:-2]#here maine yaha 3rd type se string me se kuch data nikal raha jo start hota hai 4 se or khtm hota hai -2pe)"
      ],
      "execution_count": null,
      "outputs": []
    },
    {
      "cell_type": "code",
      "metadata": {
        "id": "86FGoX0pisx4"
      },
      "source": [
        "len(my_string)#string ke length ko nikalne ke liye or keh saskte hai kitne charater hai usse check karne ke liye "
      ],
      "execution_count": null,
      "outputs": []
    },
    {
      "cell_type": "code",
      "metadata": {
        "id": "pgvkaqlfjR46"
      },
      "source": [
        "my_string=\"ThIS IS killER\"#nORMAL STRING HAI BSS \n",
        "my_string.lower()#.lower() iska kaam hai jitne bhi data hai unko ek jaisa banane ka mtlb agar wo capital hai to small kaar "
      ],
      "execution_count": null,
      "outputs": []
    },
    {
      "cell_type": "code",
      "metadata": {
        "id": "KWLik6xGkS20"
      },
      "source": [
        "my_string=\"tHis Is KILLER\"#normal STRing hai BSS\n",
        "my_string.upper()#YAHA .UPPER() KA KAAM YE HAI KI JITNE BHI STRING DATA HAI Variable ME unhe UPPER LEETER ME CONVERT KAAR DO "
      ],
      "execution_count": null,
      "outputs": []
    },
    {
      "cell_type": "code",
      "metadata": {
        "id": "R-LDs7bEoUUy"
      },
      "source": [
        "my_string=\"thas is kaller\"#normal string hai \n",
        "my_string.replace('a','i')#yaha .replace()=iske andar  kaa kaam ye hai ki jo bhi data mujhe replace karna hai9 string se uska phle wo word ya letter likho or comma ke baad me usko sahi kaar ke likho to wo replace ho jayega"
      ],
      "execution_count": null,
      "outputs": []
    },
    {
      "cell_type": "code",
      "metadata": {
        "id": "DlZ16JCCk4BY"
      },
      "source": [
        "my_string=\"this is killer\"#normal string hai \n",
        "my_string.replace('killer','lover')#iska kaam ye hai ki jo bhi word hai usko kaise replace karenge jise amine yaha killer ko replace kaar ke lover add kar diya "
      ],
      "execution_count": null,
      "outputs": []
    },
    {
      "cell_type": "code",
      "metadata": {
        "id": "ETtnkoFHsEqz"
      },
      "source": [
        "my2_string='''Hi baby \n",
        "i love you\n",
        "i love you too              yaha multiple lines ka string hai bss\n",
        "i love you more and more \n",
        "i love you my love \n",
        "i love you so much\n",
        "'''\n",
        "my2_string.count('i')#yaha .count kaa kaam hai kissi khash letter ko count karne ka data se bss parameter ke andar aap uss data ko fill kaar do ho jayega "
      ],
      "execution_count": null,
      "outputs": []
    },
    {
      "cell_type": "code",
      "metadata": {
        "id": "US60HapxpsGT"
      },
      "source": [
        "my2_string.count('love')#yaha .count kaa kaam hai kissi khash word ko count karne ka data se bss parameter ke andar aap uss data ko fill kaar do ho jayega "
      ],
      "execution_count": null,
      "outputs": []
    },
    {
      "cell_type": "code",
      "metadata": {
        "id": "hpx4beM5rZ1p"
      },
      "source": [
        "my3_string=\"this is killer\"#normal string hai bss\n",
        "my3_string.find('killer')#yaha .find ka kaam ye hai ki string me uss word ya letter ya data konse position pe hai usse niklna "
      ],
      "execution_count": null,
      "outputs": []
    },
    {
      "cell_type": "code",
      "metadata": {
        "id": "gn-TqZtsu2V1"
      },
      "source": [
        "my2_string.find('love')#yaha .find ka kaam ye hai ki string me uss word ya letter ya data konse position pe hai usse niklna "
      ],
      "execution_count": null,
      "outputs": []
    },
    {
      "cell_type": "code",
      "metadata": {
        "id": "FhswDiilu5Wu"
      },
      "source": [
        "my_skill=('java,python,c,c++,html,css,react.js,node.js')#ye bss ek normall string hai n\n",
        "my_skill.split(\",\")#yaha .split ka kaam ye hai ki jo bhi data de usse ye string kissi specific place se break kaar ke ek list bana ke de or jaha se data chahiye usse bataye parameter me (\",\" jaha se bhi data chahiye waha ka detail bharo duble comma me or run)\n"
      ],
      "execution_count": null,
      "outputs": []
    },
    {
      "cell_type": "code",
      "metadata": {
        "id": "ZERvLV6Qxueb"
      },
      "source": [
        "skill =my_skill.split(\",\")#maine yaha my_skill.split ke output ko kissi or variable me daal diya \n",
        "skill#yaha main skill ko print karwa raha to mujhe wo split wali output data mil jayyegi"
      ],
      "execution_count": null,
      "outputs": []
    },
    {
      "cell_type": "markdown",
      "metadata": {
        "id": "S-OJE4Zszm1H"
      },
      "source": [
        "<p>Data Structure in Python--tuple--(modification not possible )</p>\n",
        "<p\n",
        "tuple=it is an ordered collection of element enclosed within()\n",
        "list=it is an ordered collection of element enclosed within[]\n",
        "dictionary \n",
        "set\n",
        "/p>"
      ]
    },
    {
      "cell_type": "code",
      "metadata": {
        "id": "uMNMpA-iyeFB"
      },
      "source": [
        "tup1=(1,True,1.4,5+5j)#yaha hum ek baar me multiple types ke value ko ek baar me le sakte hai or ye change nahi ho sakta \n",
        "tup1"
      ],
      "execution_count": null,
      "outputs": []
    },
    {
      "cell_type": "code",
      "metadata": {
        "id": "s1GX-4oR1vkI"
      },
      "source": [
        "type(tup1)#humne check kiya konsi value hai ye "
      ],
      "execution_count": null,
      "outputs": []
    },
    {
      "cell_type": "code",
      "metadata": {
        "id": "Ih9-7Nkp16nX"
      },
      "source": [
        "tup1=(1,True,'a',2,False)#yaha normal hmne multiple value liya \n",
        "tup1[1]#here []=(in python string are counted by #if u want to count from right to left then -1 to -ve nth number)"
      ],
      "execution_count": null,
      "outputs": []
    },
    {
      "cell_type": "code",
      "metadata": {
        "id": "WUPPB-_p3Eiu"
      },
      "source": [
        "tup1[1:4]#here maine yaha 1st type se string me se kuch data nikal raha jo start hota hai 4 se or khtm hota hai 12pe )"
      ],
      "execution_count": null,
      "outputs": []
    },
    {
      "cell_type": "code",
      "metadata": {
        "id": "gnaf5pfh3W4g"
      },
      "source": [
        "len(tup1)#tuple ka length nikal raha "
      ],
      "execution_count": null,
      "outputs": []
    },
    {
      "cell_type": "code",
      "metadata": {
        "id": "DQ_pA5Bu9B7c"
      },
      "source": [
        "tup2=(1,2,3)#yaha multiple intiger value hai \n",
        "tup3=(4,5,6)#yaha bhi same hai \n",
        "tup2,tup3#yaha hamne tuple value ko diffent diffenrt parameter me save kiya hai "
      ],
      "execution_count": null,
      "outputs": []
    },
    {
      "cell_type": "code",
      "metadata": {
        "id": "Kr6mOj2b38iA"
      },
      "source": [
        "tup2=(1,2,3)#yaha maine 3 interger liya hai \n",
        "tup3=(4,5,6)#yaha maine 3 or inter liya hai \n",
        "tup2+tup3# yaha maine tup2 or tup3 ko add kiya but ye add honge lekin actual add(1+2=3) nahi sirf 2 type ke tuple ko ek parameter me le aayenge  jaise yaha jo value hai wo ek saath aa jayegi"
      ],
      "execution_count": null,
      "outputs": []
    },
    {
      "cell_type": "code",
      "metadata": {
        "id": "83Pkb7eI5PuR"
      },
      "source": [
        "tup4=(1,True,False,\"hi\",3.14)#yaha maine 3 different type ke value liya hai \n",
        "tup5=(2,False,True,\"bye\",6.86)# yaha maine sencond value bhi waisa hi liya hai \n",
        "tup4+tup5#yaha maine tup4 or tup5 ko add kar diya "
      ],
      "execution_count": null,
      "outputs": []
    },
    {
      "cell_type": "code",
      "metadata": {
        "id": "yCqXSmiH84y6"
      },
      "source": [
        "tup2*2#yaha maine 1 tuple value ko multiple kiya hai 2 se yaha main kitna bhi number se multiple4 kaar sakta hu  "
      ],
      "execution_count": null,
      "outputs": []
    },
    {
      "cell_type": "code",
      "metadata": {
        "id": "qyatywEIES2s"
      },
      "source": [
        "tup2*2+tup3*5#more example hai above waale ka  "
      ],
      "execution_count": null,
      "outputs": []
    },
    {
      "cell_type": "code",
      "metadata": {
        "id": "IbTJbc3_Em1q"
      },
      "source": [
        "tup6=(1,2,3,4,5)#kuch nahi hai bss tuple me multoiple interger value hai \n",
        "min(tup6)#yaha maine iss tuple me check kiya kitna sabse chota value sirf min()or parameter me variable ko run karwa de "
      ],
      "execution_count": null,
      "outputs": []
    },
    {
      "cell_type": "code",
      "metadata": {
        "id": "HTEzEc6vE5hu"
      },
      "source": [
        "max(tup6)#yaha maine check kiya tuple me sabse bara value sirf max()or parameter me variable ko run karwa de "
      ],
      "execution_count": null,
      "outputs": []
    },
    {
      "cell_type": "markdown",
      "metadata": {
        "id": "Fh7tQkTVFyh4"
      },
      "source": [
        "<p>Data Structure in Python--list--(modification possible)</p>\n",
        "it is an ordered collection of element enclosed within[ ]"
      ]
    },
    {
      "cell_type": "code",
      "metadata": {
        "id": "k2mlREqAF2vB"
      },
      "source": [
        "l1=[1,'satyam',3.14,True]#yaha pe []is bricate ka mtlb hai ye ki list hai \n",
        "l1"
      ],
      "execution_count": null,
      "outputs": []
    },
    {
      "cell_type": "code",
      "metadata": {
        "id": "2t0Tw502HgsN"
      },
      "source": [
        "l1[-1]#here []=(in python string are counted by (value 0 to n number from left to right if u want to count from right to left then -1 to -ve n number))"
      ],
      "execution_count": null,
      "outputs": []
    },
    {
      "cell_type": "code",
      "metadata": {
        "id": "_55J-U2kIeB-"
      },
      "source": [
        "l2=[1,'satyam',2,b,3,'c']#kuch nahi hai bss \n",
        "l2[1]=10#yaha se change kaar skate hai data ko because list me hum data modification kaar sakte hai\n",
        "l2"
      ],
      "execution_count": null,
      "outputs": []
    },
    {
      "cell_type": "code",
      "metadata": {
        "id": "kOkaMnItKIPX"
      },
      "source": [
        "l2.append(98.3)#hum isme one new data add kar sakte hai\n",
        "l2"
      ],
      "execution_count": null,
      "outputs": []
    },
    {
      "cell_type": "code",
      "metadata": {
        "id": "9ze3zI9gj_1v"
      },
      "source": [
        "l2.pop()#hum isme one by one new data store kar sakte hai\n",
        "l2"
      ],
      "execution_count": null,
      "outputs": []
    },
    {
      "cell_type": "code",
      "metadata": {
        "id": "aBM6b25fkQ__"
      },
      "source": [
        "l2.pop()# ex-hum isme one by one new data store kar sakte hai\n",
        "l2"
      ],
      "execution_count": null,
      "outputs": []
    },
    {
      "cell_type": "code",
      "metadata": {
        "id": "kBVoIqvAACZO"
      },
      "source": [
        "l3=[\"sameer\",'satyam','raja,','sameer','prince','dk']\n",
        "l3.reverse()#data ke direction ko change karne ke liye\n",
        "l3"
      ],
      "execution_count": null,
      "outputs": []
    },
    {
      "cell_type": "code",
      "metadata": {
        "id": "JMZy68b1EOqt"
      },
      "source": [
        "l4=['satyam','raja,','sameer','prince','dk']\n",
        "l4.insert(1,\"vicky\")#yaha maine ek new data ko add kiya hai \n",
        "l4"
      ],
      "execution_count": null,
      "outputs": []
    },
    {
      "cell_type": "code",
      "metadata": {
        "id": "M97m7zA7CcSE"
      },
      "source": [
        "l4.sort()#yaha maine alpha betical order me data ko arrange kiyaaa hai\n",
        "l4"
      ],
      "execution_count": null,
      "outputs": []
    },
    {
      "cell_type": "code",
      "metadata": {
        "id": "Y-SlxK3wN7mk"
      },
      "source": [
        "l5=['apple','song','banana','mango']\n",
        "l4+l5#2 list ko ek line me lagane ke liye"
      ],
      "execution_count": null,
      "outputs": []
    },
    {
      "cell_type": "markdown",
      "metadata": {
        "id": "NU_2n7cxZi50"
      },
      "source": [
        "<p>Data Structure in Python--dict--(modification possible)</p>\n",
        "it is an ordered collection of element enclosed within{}"
      ]
    },
    {
      "cell_type": "code",
      "metadata": {
        "id": "qhNXqGDkZQzC"
      },
      "source": [
        ""
      ],
      "execution_count": null,
      "outputs": []
    }
  ]
}